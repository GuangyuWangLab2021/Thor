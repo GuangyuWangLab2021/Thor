{
 "cells": [
  {
   "cell_type": "markdown",
   "id": "efcc72d9",
   "metadata": {},
   "source": [
    "# Mouse olfactory bulb"
   ]
  },
  {
   "cell_type": "markdown",
   "id": "4c9d1230",
   "metadata": {},
   "source": [
    "Thor reveals cell-resolution mouse olfactory bulb structure.\n",
    "\n",
    "In this tutorial, we show inference of cell-level spatial gene expression from the Visium spot-level spatial transcriptome and a whole slide image (H&E staining) using Thor. \n",
    "\n",
    "The spatial transcriptome dataset is the Adult Mouse Olfactory Bulb. \n",
    "The input data can be downloaded from our [google drive](https://drive.google.com/drive/folders/1CaUHMRUcKT-qGY2_lMkOcVVu_7OW50S-?usp=sharing) or 10x Genomics [website](https://www.10xgenomics.com/resources/datasets/adult-mouse-olfactory-bulb-1-standard-1). \n",
    "\n",
    "For installation of Thor, please refer to [this installation guide](../installation.rst)."
   ]
  },
  {
   "cell_type": "markdown",
   "id": "7d0e87fa",
   "metadata": {},
   "source": [
    "## Import the packages"
   ]
  },
  {
   "cell_type": "code",
   "execution_count": null,
   "id": "b1459d34",
   "metadata": {
    "scrolled": true,
    "tags": []
   },
   "outputs": [],
   "source": [
    "import sys\n",
    "import os\n",
    "import logging\n",
    "import datetime\n",
    "\n",
    "logger = logging.getLogger()\n",
    "logger.setLevel(logging.INFO)\n",
    "logging.basicConfig(format='%(name)s - %(levelname)s - %(message)s')\n",
    "\n",
    "now = datetime.datetime.now()\n",
    "logger.info(f\"Current Time: {now}\")"
   ]
  },
  {
   "cell_type": "code",
   "execution_count": null,
   "id": "fe66c294-ae6f-4768-afb4-1a0297e1d7fc",
   "metadata": {},
   "outputs": [],
   "source": [
    "%config InlineBackend.figure_format = 'retina'\n",
    "\n",
    "import numpy as np\n",
    "import pandas as pd\n",
    "import scanpy as sc\n",
    "import seaborn as sns\n",
    "import matplotlib.pyplot as plt\n",
    "from matplotlib.colors import LinearSegmentedColormap\n",
    "\n",
    "import warnings\n",
    "\n",
    "warnings.filterwarnings(\"ignore\")\n",
    "sc.set_figure_params(scanpy=True, dpi=80, dpi_save=300)\n",
    "sc.settings.verbosity = 'error'\n",
    "\n",
    "\n",
    "from thor.pp import WholeSlideImage, Spatial\n",
    "from thor.finest import fineST\n",
    "from thor.pl import colors "
   ]
  },
  {
   "cell_type": "markdown",
   "id": "2f3fbbed",
   "metadata": {},
   "source": [
    "## Preprocessing"
   ]
  },
  {
   "cell_type": "markdown",
   "id": "77c2491d",
   "metadata": {},
   "source": [
    "### Preprocessing the whole slide image, including cell segmentation and morphological feature extraction. If not specified, the segmentation data will be saved in a directory (created by Thor) WSI_{sn}. \n",
    "\n",
    "The WSI can be downloaded directly from [google drive](https://drive.google.com/drive/folders/1CaUHMRUcKT-qGY2_lMkOcVVu_7OW50S-?usp=sharing).\n",
    "\n",
    "The outcomes of image preprocessing are two files:\n",
    "- cell mask\n",
    "- cell features"
   ]
  },
  {
   "cell_type": "code",
   "execution_count": 3,
   "id": "7b7ff977",
   "metadata": {},
   "outputs": [],
   "source": [
    "sn = 'MOB_10x'\n",
    "image_path = \"Visium_Mouse_Olfactory_Bulb_image.tif\"\n",
    "\n",
    "wsi = WholeSlideImage(image_path, name=sn)"
   ]
  },
  {
   "cell_type": "markdown",
   "id": "c12e4331",
   "metadata": {},
   "source": [
    "Here we use Cellpose to segment the nuclei. Notice the segmentation can take a long time without GPU. The output file is a `n_pixel_row` x `n_pixel_col` matrix. We'll skip this step and load the pre-computed segmentation results from [here]https://drive.google.com/drive/folders/1CaUHMRUcKT-qGY2_lMkOcVVu_7OW50S-?usp=sharing). In the downloaded folder, both the cell segmentation and cell features files are included."
   ]
  },
  {
   "cell_type": "code",
   "execution_count": null,
   "id": "f145fc69",
   "metadata": {},
   "outputs": [],
   "source": [
    "%%script echo \"Skip cell segmentation\"\n",
    "\n",
    "wsi.process(method='cellpose')"
   ]
  },
  {
   "cell_type": "markdown",
   "id": "a5926e8c",
   "metadata": {},
   "source": [
    "### Preprocessing spatial transcriptome. We used SCANPY to generate an adata for the spots including QC.\n",
    "\n",
    "We follow the standarized steps used by SCANPY to create the spot adata from the space ranger output directory (`visium_dir`). The spot adata contains the expression matrix, the location of the spots as pixel positions on the WSI, and the hires, lowres images with scalefactors.\n",
    "- spot.h5ad"
   ]
  },
  {
   "cell_type": "markdown",
   "id": "fce6843b",
   "metadata": {},
   "source": [
    "You can skip this step and download the files [here](https://drive.google.com/drive/folders/1CaUHMRUcKT-qGY2_lMkOcVVu_7OW50S-?usp=sharing)"
   ]
  },
  {
   "cell_type": "code",
   "execution_count": null,
   "id": "d2393c16",
   "metadata": {},
   "outputs": [],
   "source": [
    "st_dir = \"10xOlfactory\"\n",
    "\n",
    "trans = Spatial(sn, st_dir)\n",
    "trans.process_transcriptome(perform_QC=False)"
   ]
  },
  {
   "cell_type": "markdown",
   "id": "569cc7f7",
   "metadata": {},
   "source": [
    "Basic transcriptome preprocessing"
   ]
  },
  {
   "cell_type": "code",
   "execution_count": 6,
   "id": "d867d53b",
   "metadata": {},
   "outputs": [],
   "source": [
    "spot_adata_path = trans.spot_adata_path\n",
    "adata_spot = sc.read_h5ad(spot_adata_path)\n",
    "sc.pp.normalize_total(adata_spot, target_sum=1e4)\n",
    "sc.pp.log1p(adata_spot)\n",
    "\n",
    "adata_spot.write_h5ad(spot_adata_path)"
   ]
  },
  {
   "cell_type": "markdown",
   "id": "5815713e",
   "metadata": {
    "tags": []
   },
   "source": [
    "## Predicting cell-level gene expression using Markov graph diffusion \n",
    "\n",
    "After finishing the preprocessing, you should have those files:\n",
    "- The original WSI (`image_path`)\n",
    "- The cell(nuclei) mask and features (in directory \"./WSI_MOB_10x\")\n",
    "- The spot-level gene expression (in directory \"./Spatial_MOB_10x\")\n"
   ]
  },
  {
   "cell_type": "code",
   "execution_count": 7,
   "id": "9700f7f7-70bc-4523-9b3f-a1e9b4db3be5",
   "metadata": {},
   "outputs": [],
   "source": [
    "outdir = os.getcwd()\n",
    "\n",
    "image_process_dir = os.path.join(outdir, \"WSI_MOB_10x\")\n",
    "cell_mask_path = os.path.join(image_process_dir, \"cell_mask.npz\")\n",
    "cell_feature_path = os.path.join(image_process_dir, \"cell_features.csv\")"
   ]
  },
  {
   "cell_type": "markdown",
   "id": "111cafde",
   "metadata": {},
   "source": [
    "The first step is to map the spot gene expression to the segmented cells. We use the nearest neighbors approach. This cell-level gene expression is the starting point for the diffusion process."
   ]
  },
  {
   "cell_type": "code",
   "execution_count": null,
   "id": "28e835cc-71bb-449d-b23d-4108530b9262",
   "metadata": {},
   "outputs": [],
   "source": [
    "MOB = fineST(\n",
    "    image_path,\n",
    "    name=sn,\n",
    "    spot_adata_path=spot_adata_path,\n",
    "    cell_features_csv_path=cell_feature_path,\n",
    "    cell_features_list=['x', 'y', 'mean_gray', 'std_gray', 'entropy_img', 'mean_r', 'mean_g', 'mean_b', 'std_r', 'std_g', 'std_b'],\n",
    ")\n",
    "\n",
    "MOB.prepare_input(mapping_margin=2)"
   ]
  },
  {
   "cell_type": "code",
   "execution_count": null,
   "id": "2617828a",
   "metadata": {},
   "outputs": [],
   "source": [
    "MOB.adata"
   ]
  },
  {
   "cell_type": "markdown",
   "id": "fd0c8581",
   "metadata": {},
   "source": [
    "Second step is set up genes for prediction. For the sake of time, we'll show prediction of a few genes. The same Markov transition matrix can be applied to all genes. The user-defined genes can be input by either in a 1-column text file or directly as the attribute `genes` of the `MOB` object"
   ]
  },
  {
   "cell_type": "code",
   "execution_count": null,
   "id": "0486f4d3",
   "metadata": {},
   "outputs": [],
   "source": [
    "MOB.genes = ['Eomes', 'Uchl1', 'Pcp4l1', 'Col6a1', 'Tbx21', 'Slc17a6', 'Bmp7', 'Camk2a', 'Cystm1', 'Penk', 'Gria1', 'Nap1l5', 'Serpine2', 'Kctd12', 'Pde5a', 'Syt7', 'Vtn']\n",
    "MOB.set_genes_for_prediction(genes_selection_key=None)\n",
    "MOB.adata.var[MOB.adata.var['used_for_prediction']]"
   ]
  },
  {
   "cell_type": "markdown",
   "id": "bed86a2a",
   "metadata": {},
   "source": [
    "In this case study, we include the effect of input spatial transcriptome in constructing the cell-cell network.\n",
    "\n",
    "- Burn in 5 steps using only histology features (vanilla version) for all highly variable genes. \n",
    "- Load the burnin result, perform PCA, and use the transcriptome to adjust the cell-cell network. \n",
    "- The cell-cell network with transcriptome PCA information will be used to perform the production diffusion.\n",
    "\n",
    "Run time (~ 3 mins on MacbookPro M2)"
   ]
  },
  {
   "cell_type": "code",
   "execution_count": null,
   "id": "dc6c4f9c",
   "metadata": {},
   "outputs": [],
   "source": [
    "MOB.recipe = 'gene'\n",
    "MOB.set_params(\n",
    "    is_rawCount=False,\n",
    "    out_prefix=\"fineST\",\n",
    "    write_freq=40,\n",
    "    n_iter=40,\n",
    "    conn_csr_matrix=\"force\",\n",
    "    smoothing_scale=0.8,\n",
    "    node_features_obs_list=['spot_heterogeneity'],\n",
    "    n_neighbors=5,\n",
    "    geom_morph_ratio=0.5,\n",
    "    geom_constraint=0,\n",
    "    inflation_percentage=1,\n",
    "    regulate_expression_mean=False,\n",
    "    stochastic_expression_neighbors_level='spot',\n",
    "    smooth_predicted_expression_steps=10,\n",
    "    reduced_dimension_transcriptome_obsm_key='X_pca',\n",
    "    adjust_cell_network_by_transcriptome_scale=1,\n",
    "    n_jobs=4)\n",
    "\n",
    "MOB.predict_gene_expression()"
   ]
  },
  {
   "cell_type": "markdown",
   "id": "50b7fd4b",
   "metadata": {},
   "source": [
    "### Check the expression of a few genes."
   ]
  },
  {
   "cell_type": "code",
   "execution_count": null,
   "id": "d45f6f6a",
   "metadata": {},
   "outputs": [],
   "source": [
    "ad_thor = MOB.load_result('fineST_40_samp10.npz')\n",
    "ad_thor"
   ]
  },
  {
   "cell_type": "code",
   "execution_count": null,
   "id": "7abaffad",
   "metadata": {},
   "outputs": [],
   "source": [
    "genes = ['Eomes', 'Uchl1', 'Pcp4l1', 'Col6a1', 'Tbx21', 'Slc17a6', 'Bmp7']\n",
    "\n",
    "ad_spot = sc.read_h5ad(spot_adata_path)\n",
    "sc.pl.spatial(ad_spot, color=genes, vmax='p99', frameon=False, ncols=4)"
   ]
  },
  {
   "cell_type": "code",
   "execution_count": null,
   "id": "751cab47",
   "metadata": {},
   "outputs": [],
   "source": [
    "genes = ['Eomes', 'Uchl1', 'Pcp4l1']\n",
    "\n",
    "sc.set_figure_params(scanpy=True, dpi=80, dpi_save=100, facecolor='k', frameon=False)\n",
    "fw2 = LinearSegmentedColormap.from_list('fw2', colors.continuous_palettes['fireworks2'])\n",
    "\n",
    "fig, axes = plt.subplots(1, 3, figsize=(15, 5))\n",
    "i = 0\n",
    "\n",
    "for gene in genes:\n",
    "    sc.pl.spatial(ad_thor, color=gene, spot_size=15, vmin='p5', vmax='p95', colorbar_loc=None, cmap='coolwarm', img_key=None, show=False, ax=axes[i])\n",
    "    axes[i].set_title(gene, color='w')\n",
    "    i += 1\n",
    "plt.show()"
   ]
  },
  {
   "cell_type": "markdown",
   "id": "1185c0b0",
   "metadata": {},
   "source": [
    "Visualize module-specific genes"
   ]
  },
  {
   "cell_type": "code",
   "execution_count": null,
   "id": "96e7a931",
   "metadata": {},
   "outputs": [],
   "source": [
    "from matplotlib.colors import LinearSegmentedColormap\n",
    "from thor.pl import colors \n",
    "\n",
    "mod_genes = ['Col6a1', 'Tbx21', 'Slc17a6', 'Bmp7']\n",
    "\n",
    "\n",
    "sc.set_figure_params(scanpy=True, dpi=80, dpi_save=100, facecolor='k', frameon=False)\n",
    "yb = LinearSegmentedColormap.from_list('yb', colors.continuous_palettes['blueYellow'])\n",
    "\n",
    "fig, axes = plt.subplots(1, 4, figsize=(20, 5))\n",
    "i = 0\n",
    "\n",
    "for gene in mod_genes:\n",
    "    sc.pl.spatial(ad_thor, color=gene, spot_size=15, vmin='p2', vmax='p98', colorbar_loc=None, cmap=yb, img_key=None, show=False, ax=axes[i])\n",
    "    axes[i].set_title(gene, color='w')\n",
    "    i += 1\n",
    "plt.show()"
   ]
  },
  {
   "cell_type": "code",
   "execution_count": null,
   "id": "769bf665",
   "metadata": {},
   "outputs": [],
   "source": []
  }
 ],
 "metadata": {
  "kernelspec": {
   "display_name": "thor",
   "language": "python",
   "name": "python3"
  },
  "language_info": {
   "codemirror_mode": {
    "name": "ipython",
    "version": 3
   },
   "file_extension": ".py",
   "mimetype": "text/x-python",
   "name": "python",
   "nbconvert_exporter": "python",
   "pygments_lexer": "ipython3",
   "version": "3.11.5"
  }
 },
 "nbformat": 4,
 "nbformat_minor": 5
}
