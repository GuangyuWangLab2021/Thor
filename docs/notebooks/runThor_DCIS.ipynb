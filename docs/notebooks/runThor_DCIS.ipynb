{
 "cells": [
  {
   "cell_type": "markdown",
   "id": "941c522e",
   "metadata": {},
   "source": [
    "# Ductal carcinoma in situ"
   ]
  },
  {
   "cell_type": "markdown",
   "id": "195716dc",
   "metadata": {},
   "source": [
    "Thor performs unbiased screening of breast cancer hallmarks in Ductal Carcinoma in situ sample and reveals heterogeneity of immune response."
   ]
  },
  {
   "cell_type": "markdown",
   "id": "2f01ce43",
   "metadata": {},
   "source": [
    "## Run Thor\n",
    "\n",
    "In this tutorial, we show inference of cell-level spatial gene expression from the [Visium](https://www.10xgenomics.com/spatial-transcriptomics/) spot-level spatial transcriptome and a whole slide image (H&E staining) using Thor. \n",
    "\n",
    "The spatial dataset is Human Breast Cancer: Ductal Carcinoma In Situ, Invasive Carcinoma (FFPE). \n",
    "The input data are downloaded from 10x Genomics [website](https://www.10xgenomics.com/resources/datasets/human-breast-cancer-ductal-carcinoma-in-situ-invasive-carcinoma-ffpe-1-standard-1-3-0). \n",
    "\n",
    "Thor processed data can be downloaded directly from [google drive](https://drive.google.com/drive/folders/18Wu1k09nQQ7gK40oRL5AWHDy-bDBc9en?usp=sharing).\n",
    "\n",
    "For installation of Thor, please refer to [this installation guide](../installation.rst)."
   ]
  },
  {
   "cell_type": "markdown",
   "id": "2e5ed0b8",
   "metadata": {},
   "source": [
    "### Import the packages"
   ]
  },
  {
   "cell_type": "code",
   "execution_count": null,
   "id": "b1459d34",
   "metadata": {
    "scrolled": true,
    "tags": []
   },
   "outputs": [],
   "source": [
    "import sys\n",
    "import os\n",
    "import logging\n",
    "import datetime\n",
    "\n",
    "logger = logging.getLogger()\n",
    "logger.setLevel(logging.INFO)\n",
    "logging.basicConfig(format='%(name)s - %(levelname)s - %(message)s')\n",
    "\n",
    "now = datetime.datetime.now()\n",
    "logger.info(f\"Current Time: {now}\")"
   ]
  },
  {
   "cell_type": "code",
   "execution_count": null,
   "id": "fe66c294-ae6f-4768-afb4-1a0297e1d7fc",
   "metadata": {},
   "outputs": [],
   "source": [
    "%config InlineBackend.figure_format = 'retina'\n",
    "\n",
    "\n",
    "import numpy as np\n",
    "import pandas as pd\n",
    "import scanpy as sc\n",
    "import seaborn as sns\n",
    "import matplotlib.pyplot as plt\n",
    "sc.set_figure_params(scanpy=True, dpi=80, dpi_save=300)\n",
    "sc.settings.verbosity = 'error'\n",
    "\n",
    "\n",
    "from thor.pp import WholeSlideImage, Spatial\n",
    "from thor.finest import fineST"
   ]
  },
  {
   "cell_type": "markdown",
   "id": "493ac967",
   "metadata": {},
   "source": [
    "### Preprocessing"
   ]
  },
  {
   "cell_type": "markdown",
   "id": "3b5f364f",
   "metadata": {},
   "source": [
    "Preprocessing the whole slide image, including cell segmentation and morphological feature extraction. If not specified, the segmentation data will be saved in a directory (created by Thor) WSI_{sn}. \n",
    "\n",
    "The WSI can be downloaded directly from [google drive](https://drive.google.com/file/d/1ov3ivbnAjg-PTElAYMWdgt8DLX0AJ6gE/view?usp=sharing).\n",
    "\n",
    "The outcomes are: cell mask and the cell feature.csv"
   ]
  },
  {
   "cell_type": "code",
   "execution_count": 3,
   "id": "7e66fc94",
   "metadata": {},
   "outputs": [],
   "source": [
    "sn = 'DCIS_10x'\n",
    "image_path = \"Visium_FFPE_Human_Breast_Cancer_image.tif\"\n",
    "\n",
    "wsi = WholeSlideImage(image_path, name=sn)"
   ]
  },
  {
   "cell_type": "markdown",
   "id": "3f0d6dbf",
   "metadata": {},
   "source": [
    "Here we use Cellpose to segment the nuclei. Notice the segmentation can take a long time without GPU. The output file is a `n_pixel_row` x `n_pixel_col` matrix. We'll skip this step and load the pre-computed segmentation results from [here](https://drive.google.com/drive/folders/1ujxAGOWtDexImGGtSYKkHOE-aGTDPcvs?usp=sharing)."
   ]
  },
  {
   "cell_type": "code",
   "execution_count": null,
   "id": "96631756",
   "metadata": {},
   "outputs": [],
   "source": [
    "%%script echo \"Skip cell segmentation\"\n",
    "\n",
    "wsi.process(method='cellpose')"
   ]
  },
  {
   "cell_type": "markdown",
   "id": "2df33a97",
   "metadata": {},
   "source": [
    "Extract handcrafted image features based on the image and nuclei segmentation result."
   ]
  },
  {
   "cell_type": "code",
   "execution_count": null,
   "id": "53299ac3",
   "metadata": {},
   "outputs": [],
   "source": [
    "cell_mask_path = os.path.join('WSI_DCIS_10x', 'cell_mask.npz')\n",
    "wsi = WholeSlideImage(image_path, name=sn, nuclei_seg_path=cell_mask_path, nuclei_seg_format='mask_array_npz')\n",
    "wsi.process()"
   ]
  },
  {
   "cell_type": "markdown",
   "id": "2ec4a2ce",
   "metadata": {},
   "source": [
    "Preprocessing spatial transcriptome. We used SCANPY to generate an adata for the spots including QC.\n",
    "\n",
    "We follow the standarized steps used by SCANPY to create the spot adata from the space ranger output directory (`visium_dir`). The spot adata contains the expression matrix, the location of the spots as pixel positions on the WSI, and the hires, lowres images with scalefactors.\n",
    "- spot.h5ad"
   ]
  },
  {
   "cell_type": "markdown",
   "id": "106f70ee",
   "metadata": {},
   "source": [
    "We skip this step here and the files can be downloaded from [here](https://drive.google.com/drive/folders/1nX6c8FJqj-VCiCa9G4PM2vk-Ogp-9vEH?usp=sharing)"
   ]
  },
  {
   "cell_type": "markdown",
   "id": "1a17ba66",
   "metadata": {},
   "source": [
    "### Predicting cell-level gene expression using Thor diffusion \n",
    "\n",
    "After finishing the preprocessing, you should have those files:\n",
    "- The original WSI (image_path)\n",
    "- The cell(nuclei) mask and features (in directory \"./WSI_DCIS_10x\")\n",
    "- The spot-level gene expression (in directory \"./Spatial_DCIS_10x\")\n"
   ]
  },
  {
   "cell_type": "code",
   "execution_count": 6,
   "id": "9700f7f7-70bc-4523-9b3f-a1e9b4db3be5",
   "metadata": {},
   "outputs": [],
   "source": [
    "outdir = os.getcwd()\n",
    "\n",
    "image_process_dir = os.path.join(outdir, \"WSI_DCIS_10x\")\n",
    "cell_mask_path = os.path.join(image_process_dir, \"cell_mask.npz\")\n",
    "cell_feature_path = os.path.join(image_process_dir, \"cell_features.csv\")\n",
    "\n",
    "spatial_dir = os.path.join(outdir, \"Spatial_DCIS_10x\")\n",
    "spot_adata_path = os.path.join(spatial_dir, \"spot.h5ad\")\n"
   ]
  },
  {
   "cell_type": "markdown",
   "id": "1df91081",
   "metadata": {},
   "source": [
    "The first step is to map the spot gene expression to the segmented cells. We use the nearest neighbors approach. This cell-level gene expression is the starting point for the diffusion process."
   ]
  },
  {
   "cell_type": "code",
   "execution_count": null,
   "id": "28e835cc-71bb-449d-b23d-4108530b9262",
   "metadata": {},
   "outputs": [],
   "source": [
    "DCIS = fineST(\n",
    "    image_path,\n",
    "    name=\"DCIS_10x\",\n",
    "    spot_adata_path=spot_adata_path,\n",
    "    cell_features_csv_path=cell_feature_path\n",
    ")\n",
    "\n",
    "DCIS.prepare_input(mapping_margin=10)"
   ]
  },
  {
   "cell_type": "code",
   "execution_count": null,
   "id": "2617828a",
   "metadata": {},
   "outputs": [],
   "source": [
    "DCIS.adata"
   ]
  },
  {
   "cell_type": "markdown",
   "id": "899c0416",
   "metadata": {},
   "source": [
    "There are 75117 cells and for the sake of time, we'll show prediction of a few genes. The same Markov transition matrix can be applied to all genes. The user-defined genes can be input by either in a 1-column text file or directly as an attribute of the DCIS object"
   ]
  },
  {
   "cell_type": "code",
   "execution_count": 9,
   "id": "04fa67eb",
   "metadata": {},
   "outputs": [],
   "source": [
    "DCIS.genes = ['VEGFA', 'FGFR4', 'TPD52', 'GRB7', 'JUP', 'SCGB2A2', 'KANK1', 'ESR1', 'TFRC', 'ERBB2']\n",
    "\n",
    "DCIS.set_genes_for_prediction(genes_selection_key=None)\n"
   ]
  },
  {
   "cell_type": "code",
   "execution_count": null,
   "id": "746df35b",
   "metadata": {},
   "outputs": [],
   "source": [
    "DCIS.adata.var[DCIS.adata.var['used_for_prediction']]"
   ]
  },
  {
   "cell_type": "code",
   "execution_count": 11,
   "id": "38ead7a7",
   "metadata": {},
   "outputs": [],
   "source": [
    "DCIS.recipe = 'gene'\n",
    "DCIS.set_params(\n",
    "    is_rawCount=False,\n",
    "    out_prefix=\"fineST\",\n",
    "    write_freq=10,\n",
    "    n_iter=20,\n",
    "    conn_csr_matrix=\"force\",\n",
    "    smoothing_scale=0.8,\n",
    "    node_features_obs_list=['spot_heterogeneity'],\n",
    "    n_neighbors=5,\n",
    "    geom_morph_ratio=1,\n",
    "    geom_constraint=0,\n",
    "    inflation_percentage=None,\n",
    "    regulate_expression_mean=False,\n",
    "    stochastic_expression_neighbors_level='spot',\n",
    "    smooth_predicted_expression_steps=1,\n",
    "    reduced_dimension_transcriptome_obsm_key=None,\n",
    "    adjust_cell_network_by_transcriptome_scale=0,\n",
    "    n_jobs=4)"
   ]
  },
  {
   "cell_type": "code",
   "execution_count": null,
   "id": "03218d6c",
   "metadata": {},
   "outputs": [],
   "source": [
    "DCIS.predict_gene_expression()"
   ]
  },
  {
   "cell_type": "markdown",
   "id": "55ac92d0",
   "metadata": {},
   "source": [
    "Check the expression of a few genes."
   ]
  },
  {
   "cell_type": "code",
   "execution_count": null,
   "id": "d45f6f6a",
   "metadata": {},
   "outputs": [],
   "source": [
    "ad_thor = DCIS.load_result('fineST_20_samp1.npz')\n",
    "ad_thor"
   ]
  },
  {
   "cell_type": "code",
   "execution_count": null,
   "id": "6d76ff6f",
   "metadata": {},
   "outputs": [],
   "source": [
    "genes = DCIS.genes \n",
    "\n",
    "ad_spot = sc.read_h5ad(spot_adata_path)\n",
    "sc.pl.spatial(ad_spot, color=genes, vmax='p99', frameon=False)"
   ]
  },
  {
   "cell_type": "code",
   "execution_count": null,
   "id": "ffe1b503",
   "metadata": {},
   "outputs": [],
   "source": [
    "genes = DCIS.genes \n",
    "sc.pl.spatial(ad_thor, color=genes, spot_size=50, vmax='p99', frameon=False)"
   ]
  },
  {
   "cell_type": "markdown",
   "id": "c6ad6df9",
   "metadata": {},
   "source": [
    "## Advance analysis"
   ]
  },
  {
   "cell_type": "markdown",
   "id": "c6b3bbb6",
   "metadata": {},
   "source": [
    "In this notebook, we'll perform analyses on the Ductal Carcinoma In Situ (DCIS) spatial data at cell-level inferred by Thor, as follows,\n",
    "\n",
    "* Visualization of genes in the physical context at cell level\n",
    "* Tumor activity using oncogenes and tumor suppressor genes\n",
    "* Hallmark pathway enrichment\n",
    "* Copy number variation calculation\n",
    "* Tertiary Lymphoid Structures quantification\n",
    "\n",
    "For installation of Thor, please refer to Thor website."
   ]
  },
  {
   "cell_type": "markdown",
   "id": "67210dd4",
   "metadata": {},
   "source": [
    "The cell-level expression of the highly variable genes (2747 genes) inferred by Thor can be downloaded from the [link](https://drive.google.com/drive/folders/18Wu1k09nQQ7gK40oRL5AWHDy-bDBc9en?usp=sharing). You can also download the nuclei segmentation masks and full resolution image in the same link if you skip first part of the notebooks in this case study."
   ]
  },
  {
   "cell_type": "markdown",
   "id": "3ae59d16",
   "metadata": {},
   "source": [
    "### Import packages"
   ]
  },
  {
   "cell_type": "code",
   "execution_count": 16,
   "id": "628d344c",
   "metadata": {},
   "outputs": [],
   "source": [
    "import os \n",
    "import scanpy as sc\n",
    "import numpy as np \n",
    "from scipy import stats\n",
    "import seaborn as sns\n",
    "import matplotlib as mpl\n",
    "from matplotlib import pyplot as plt \n",
    "from PIL import Image\n",
    "from shapely.geometry import Polygon\n",
    "\n",
    "\n",
    "import thor\n",
    "from thor.utils import convert_pixel_to_micron_visium, get_ROI_tuple_from_polygon, get_adata_layer_array\n",
    "from thor.pl import annotate_ROI, get_nuclei_pixels, single_molecule\n",
    "from thor.analy import get_pathway_score"
   ]
  },
  {
   "cell_type": "code",
   "execution_count": 17,
   "id": "5f256380",
   "metadata": {},
   "outputs": [],
   "source": [
    "%config InlineBackend.figure_format = 'retina'\n",
    "sc.set_figure_params(scanpy=True, dpi=80, dpi_save=300)\n",
    "sc.settings.verbosity = \"error\""
   ]
  },
  {
   "cell_type": "markdown",
   "id": "289cbcb4",
   "metadata": {},
   "source": [
    "### Load the image (for visualization) and Thor-predicted cell-level transcriptome result"
   ]
  },
  {
   "cell_type": "code",
   "execution_count": null,
   "id": "65641967",
   "metadata": {},
   "outputs": [],
   "source": [
    "image_path = \"Visium_FFPE_Human_Breast_Cancer_image.tif\"\n",
    "fullres_im = np.array(Image.open(image_path))\n",
    "\n",
    "adata_path = os.path.join(\"Thor_DCIS_10x\", \"cell_data_thor.h5ad\")\n",
    "ad = sc.read_h5ad(adata_path)\n",
    "ad"
   ]
  },
  {
   "cell_type": "markdown",
   "id": "5bb626c9",
   "metadata": {},
   "source": [
    "### Visualize genes at tissue and cell level"
   ]
  },
  {
   "cell_type": "code",
   "execution_count": null,
   "id": "0f95a599",
   "metadata": {},
   "outputs": [],
   "source": [
    "# Show all the tumor regions \n",
    "# '0' means non-tumor \n",
    "sc.pl.spatial(ad, color='tumor_region', spot_size=50, cmap='tab20b', title='all major tumor regions')"
   ]
  },
  {
   "cell_type": "code",
   "execution_count": 20,
   "id": "352951df",
   "metadata": {},
   "outputs": [],
   "source": [
    "palette = thor.pl.colors.continuous_palettes['blueYellow']\n",
    "cmap = mpl.colors.LinearSegmentedColormap.from_list('my_cmap', palette, N=256)"
   ]
  },
  {
   "cell_type": "code",
   "execution_count": null,
   "id": "6957e7ad",
   "metadata": {},
   "outputs": [],
   "source": [
    "gene = 'VEGFA'\n",
    "sc.pl.spatial(ad, color='VEGFA', spot_size=50, vmax='p99', cmap=cmap)"
   ]
  },
  {
   "cell_type": "markdown",
   "id": "ef511bfe",
   "metadata": {},
   "source": [
    "Close-up gene expression in cells can be seamlessly explored using our dedicated webapp [*Mjolnir*](../Mjolnir_installation.rst) or as static figures plotted using Thor's plotting functions. Here we annotate tumor regions on the H & E image according to Agoko NV, Belgium on [10x Genomics website](https://cf.10xgenomics.com/samples/spatial-exp/1.3.0/Visium_FFPE_Human_Breast_Cancer/Visium_FFPE_Human_Breast_Cancer_Pathologist_Annotations.png). \n",
    "\n",
    "We then use *Mjolnir* to extract the tumor regions and gene expression matrices of the cells in those regions."
   ]
  },
  {
   "cell_type": "code",
   "execution_count": null,
   "id": "88178675",
   "metadata": {},
   "outputs": [],
   "source": [
    "tumor1 = ad.uns['tumor_region_boundaries']['1']\n",
    "tumor1_polygon = Polygon(tumor1)\n",
    "ROI_tuple = get_ROI_tuple_from_polygon(tumor1, extend_pixels=100)\n",
    "annotate_ROI(fullres_im, ROI_polygon=tumor1_polygon, lw=4)\n"
   ]
  },
  {
   "cell_type": "markdown",
   "id": "f52fd5e8",
   "metadata": {},
   "source": [
    "load the cellmasks"
   ]
  },
  {
   "cell_type": "code",
   "execution_count": 23,
   "id": "5ca1cb86",
   "metadata": {},
   "outputs": [],
   "source": [
    "cells_pixels = get_nuclei_pixels(ad, \"WSI_DCIS_10x/cell_mask.npz\")\n",
    "microPerPixel = convert_pixel_to_micron_visium(ad)"
   ]
  },
  {
   "cell_type": "code",
   "execution_count": null,
   "id": "fee91566",
   "metadata": {},
   "outputs": [],
   "source": [
    "gene = 'VEGFA'\n",
    "expression_vector = get_adata_layer_array(ad[:, gene])\n",
    "\n",
    "ax = single_molecule(gene, expression_vector, cells_pixels, full_res_im=fullres_im, ROI_tuple=ROI_tuple, cmap=cmap, img_alpha=0.5, vmax='p99', dpi=500, figsize=(2,2))\n",
    "thor.plotting.fill.add_scalebar(ax, microPerPixel, 'um', 'lower left')"
   ]
  },
  {
   "cell_type": "code",
   "execution_count": null,
   "id": "583ad88d",
   "metadata": {},
   "outputs": [],
   "source": [
    "ROI_squares = [[9000, 7900, 500, 500], [10400, 8900, 500, 500]]\n",
    "\n",
    "fig, axes = plt.subplots(2, 2)\n",
    "\n",
    "i = 1\n",
    "for r in ROI_squares:\n",
    "    single_molecule(gene, expression_vector, cells_pixels, full_res_im=fullres_im, ROI_tuple=r, img_alpha=1, figsize=(3, 3), dpi=200, alpha=0, show_cbar=False, return_fig=False, show=False, cmap=cmap, ax=axes[i, 0])\n",
    "    ax=single_molecule(gene, expression_vector, cells_pixels, full_res_im=fullres_im, ROI_tuple=r, img_alpha=0.5, figsize=(3, 3), dpi=200, alpha=1, show_cbar=False, return_fig=False, show=False, cmap=cmap, vmax='p99', ax=axes[i, 1])\n",
    "    thor.plotting.fill.add_scalebar(ax, microPerPixel, 'um', 'lower left')\n",
    "    i = i - 1\n",
    "    "
   ]
  },
  {
   "cell_type": "markdown",
   "id": "3adc8654",
   "metadata": {},
   "source": [
    "### Expression profile of oncogene and tumor suppressor gene"
   ]
  },
  {
   "cell_type": "code",
   "execution_count": null,
   "id": "94c6abe7",
   "metadata": {},
   "outputs": [],
   "source": [
    "sc.set_figure_params(dpi=80, vector_friendly=True, fontsize=10, frameon=False, figsize=(6,6))\n",
    "sc.pl.spatial(ad, color=[\"ERBB2\", \"ATM\"], spot_size=50, vmax=4, cmap='viridis', img_key=\"hires\", show=False)"
   ]
  },
  {
   "cell_type": "code",
   "execution_count": null,
   "id": "3155e41b",
   "metadata": {},
   "outputs": [],
   "source": [
    "g1 =\"ERBB2\"\n",
    "g2 = \"ATM\"\n",
    "region_col = \"tumor_region\"\n",
    "for region in [\"7\", \"1\", \"17\", \"11\", \"6\", \"15\"]:\n",
    "\n",
    "    x = ad[ad.obs[region_col]==region, g1].X[:, 0]\n",
    "    y = ad[ad.obs[region_col]==region, g2].X[:, 0]\n",
    "\n",
    "    values = np.vstack([x, y])\n",
    "    kernel = stats.gaussian_kde(values)(values)\n",
    "    ax1 = sns.jointplot(x=x, y=y, kind=\"kde\", fill=True, levels=100)\n",
    "\n",
    "    ax1.ax_joint.cla()\n",
    "    plt.sca(ax1.ax_joint)\n",
    "    ax = sns.scatterplot(x=x, y=y, s=10, alpha=1, c=kernel, cmap=\"jet\", ax=ax1.ax_joint)\n",
    "    ax.set_xlabel(g1)\n",
    "    ax.set_ylabel(g2)\n",
    "    ax.set_xlim(0, 5)\n",
    "    ax.set_ylim(0, 2)\n",
    "    "
   ]
  },
  {
   "cell_type": "code",
   "execution_count": null,
   "id": "46c89a3c",
   "metadata": {},
   "outputs": [],
   "source": [
    "g1 =\"ERBB2\"\n",
    "g2 = \"ATM\"\n",
    "\n",
    "x = ad[:, g1].X[:, 0]\n",
    "y = ad[:, g2].X[:, 0]\n",
    "\n",
    "values = np.vstack([x, y])\n",
    "kernel = stats.gaussian_kde(values)(values)\n",
    "ax1 = sns.jointplot(x=x, y=y, kind=\"kde\", fill=True, levels=100)\n",
    "\n",
    "ax1.ax_joint.cla()\n",
    "plt.sca(ax1.ax_joint)\n",
    "ax = sns.scatterplot(x=x, y=y, s=3, alpha=0.5, c=kernel, cmap=\"jet\", ax=ax1.ax_joint)\n",
    "ax.set_xlabel(g1)\n",
    "ax.set_ylabel(g2)\n",
    "ax.set_xlim(0, 5)\n",
    "ax.set_ylim(0, 2.5)\n",
    "\n",
    "plt.show()"
   ]
  },
  {
   "cell_type": "code",
   "execution_count": null,
   "id": "0e9a4fa3",
   "metadata": {},
   "outputs": [],
   "source": [
    "g1 =\"ERBB2\"\n",
    "g2 = \"ATM\"\n",
    "region_col = \"tumor_region\"\n",
    "\n",
    "x = ad[:, g1].X[:, 0]\n",
    "y = ad[:, g2].X[:, 0]\n",
    "\n",
    "ad.obs['severe'] = np.log2(x/(y+0.01))\n",
    "\n",
    "# tumor_region '0' is the background (non-tumor) region\n",
    "ad1 = ad[ad.obs[region_col] != '0']\n",
    "\n",
    "sc.set_figure_params(dpi=80, color_map=\"RdYlGn_r\", vector_friendly=True, fontsize=18, frameon=False, figsize=(8,8))\n",
    "sc.pl.spatial(ad1, color=[\"severe\"], spot_size=40, vmin=-3, vmax=3, alpha_img=0.5, title=\"\")"
   ]
  },
  {
   "cell_type": "markdown",
   "id": "d282805a",
   "metadata": {},
   "source": [
    "### Hallmark pathway enrichment\n",
    "\n",
    "Pathway enrichment analyses are done using decoupler-py."
   ]
  },
  {
   "cell_type": "code",
   "execution_count": null,
   "id": "a20b0417",
   "metadata": {},
   "outputs": [],
   "source": [
    "import decoupler as dc \n",
    "\n",
    "# Load MSigDB. This can take a while depending on the internet connection (normally 1-2 minutes)\n",
    "msigdb = dc.get_resource('MSigDB')\n",
    "\n",
    "# Filter by hallmark\n",
    "msigdb = msigdb[msigdb['collection']=='hallmark']\n",
    "msigdb = msigdb[~msigdb.duplicated(['geneset', 'genesymbol'])]\n",
    "\n",
    "acts = get_pathway_score(ad, layer=None, net_df=msigdb)\n",
    "\n",
    "sc.pp.scale(acts, max_value=10)"
   ]
  },
  {
   "cell_type": "code",
   "execution_count": null,
   "id": "ab523a36",
   "metadata": {},
   "outputs": [],
   "source": [
    "example_pathways = ['HALLMARK_DNA_REPAIR', 'HALLMARK_E2F_TARGETS', 'HALLMARK_ESTROGEN_RESPONSE_EARLY', 'HALLMARK_IL6_JAK_STAT3_SIGNALING']\n",
    "\n",
    "sc.pl.spatial(acts, color=example_pathways, spot_size=50, cmap='viridis', alpha_img=0.5, ncols=2, vmax='p99', colorbar_loc=None)"
   ]
  },
  {
   "cell_type": "markdown",
   "id": "b87f416b",
   "metadata": {},
   "source": [
    "### Copy number variation\n",
    "\n",
    "This requires installation of CopyKAT and R environment in order to run the script. Here we simply show our result.\n",
    "\n",
    "```from thor.analy import prepare_and_run_copykat```\n",
    "\n",
    "```prepare_and_run_copykat(adata,datadir, sam_name=\"BC\")```"
   ]
  },
  {
   "cell_type": "code",
   "execution_count": null,
   "id": "de063efe",
   "metadata": {},
   "outputs": [],
   "source": [
    "#sc.pl.spatial(ad, color='copy_variation', spot_size=50, ncols=1)\n",
    "\n",
    "import seaborn as sns\n",
    "import matplotlib.pyplot as plt\n",
    "sc.set_figure_params(dpi=80, facecolor='white')\n",
    "\n",
    "fig, ax = plt.subplots(figsize=(5,5))\n",
    "sc.pl.spatial(ad, color='copy_variation', spot_size=50, vmax=4, cmap='viridis', img_key=\"hires\", show=False, ax=ax)\n",
    "\n",
    "ax.set_xticks([])\n",
    "ax.set_yticks([])\n",
    "\n",
    "plt.show()"
   ]
  },
  {
   "cell_type": "markdown",
   "id": "0490657f",
   "metadata": {},
   "source": [
    "### Tertiary Lymphoid Structures(TLS) quantification\n",
    "\n",
    "We use the list of 29 signature genes used by [this study](https://www.ncbi.nlm.nih.gov/pubmed/35231421)."
   ]
  },
  {
   "cell_type": "code",
   "execution_count": 33,
   "id": "de4503f6",
   "metadata": {},
   "outputs": [],
   "source": [
    "# This is the gene list for the TLS score that we finally used, since it includes more related cell-type markers.\n",
    "TLS_list_immunity = ['IGHA1',\n",
    "                    'IGHG1',\n",
    "                    'IGHG2',\n",
    "                    'IGHG3',\n",
    "                    'IGHG4',\n",
    "                    'IGHGP',\n",
    "                    'IGHM',\n",
    "                    'IGKC',\n",
    "                    'IGLC1',\n",
    "                    'IGLC2',\n",
    "                    'IGLC3',\n",
    "                    'JCHAIN',\n",
    "                    'CD79A',\n",
    "                    'FCRL5',\n",
    "                    'MZB1',\n",
    "                    'SSR4',\n",
    "                    'XBP1',\n",
    "                    'TRBC2',\n",
    "                    'IL7R',\n",
    "                    'CXCL12',\n",
    "                    'LUM',\n",
    "                    'C1QA',\n",
    "                    'C7',\n",
    "                    'CD52',\n",
    "                    'APOE',\n",
    "                    'PLTP',\n",
    "                    'PTGDS',\n",
    "                    'PIM2',\n",
    "                    'DERL3']\n",
    "\n",
    "sc.tl.score_genes(ad, TLS_list_immunity, ctrl_size=len(TLS_list_immunity), gene_pool=None, n_bins=25, score_name='TLS_score_immunity', random_state=0, copy=False, use_raw=False)"
   ]
  },
  {
   "cell_type": "code",
   "execution_count": null,
   "id": "1f6d469d",
   "metadata": {},
   "outputs": [],
   "source": [
    "sc.set_figure_params(dpi=80, facecolor='white', frameon=False)\n",
    "\n",
    "\n",
    "score = 'TLS_score_immunity'\n",
    "ad1 = ad[ad.obs[score]>0.3]\n",
    "\n",
    "scalefactor = ad.uns['spatial']['Visium_FFPE_Human_Breast_Cancer']['scalefactors']['tissue_hires_scalef']\n",
    "\n",
    "fig, ax = plt.subplots(figsize=(6,6))\n",
    "\n",
    "sc.pl.spatial(ad1, color=score, spot_size=50, cmap='viridis', ncols=1, ax=ax, show=False, title=\"\", colorbar_loc=None)\n",
    "\n",
    "tumor_borders = ad.uns['tumor_region_boundaries']\n",
    "for name, border in tumor_borders.items():\n",
    "    ax.plot(border[:,0]*scalefactor, border[:,1]*scalefactor, color='r', lw=0.5, zorder=3)\n",
    "\n",
    "\n",
    "plt.show()\n"
   ]
  },
  {
   "cell_type": "markdown",
   "id": "8c1df356",
   "metadata": {},
   "source": [
    "Rank the tumor regions according to the TLS score. We extended the tumor regions by 1 spot (55 um) outwards."
   ]
  },
  {
   "cell_type": "code",
   "execution_count": null,
   "id": "afe78ac3",
   "metadata": {},
   "outputs": [],
   "source": [
    "region_col = 'tumor_region_ext'\n",
    "import numpy as np\n",
    "scores =  ['TLS_score_immunity']\n",
    "\n",
    "for score in scores:\n",
    "    ad1 = ad[ad.obs[score]>0.]\n",
    "    TLS_clone_stats1 = ad1.obs.groupby(region_col)[[score]].aggregate('median')\n",
    "    rank = list(np.array(TLS_clone_stats1.sort_values(by=score, ascending=False).index))\n",
    "    rank.remove('0')\n",
    "\n",
    "    print(rank)\n"
   ]
  },
  {
   "cell_type": "code",
   "execution_count": null,
   "id": "c6e3420d",
   "metadata": {},
   "outputs": [],
   "source": [
    "import seaborn as sns\n",
    "from matplotlib import pyplot as plt\n",
    "\n",
    "sc.set_figure_params(dpi=80, facecolor='white')\n",
    "\n",
    "tumor_col = 'tumor_region_ext'\n",
    "score = 'TLS_score_immunity'\n",
    "\n",
    "df = ad.obs[[region_col, score]]\n",
    "df = df.loc[df[score]>0, :]\n",
    "df = df.loc[df[region_col]!='0', :]\n",
    "\n",
    "fig, ax = plt.subplots(figsize=(6, 5))\n",
    "\n",
    "ax.spines.right.set_color('none')\n",
    "ax.spines.top.set_color('none')\n",
    "ax = sns.boxplot(df, y=score, x=region_col, whis=[5,95], dodge=False, width=0.3, fliersize=0., order=rank )\n",
    "for patch in ax.patches:\n",
    "    r, g, b, a = patch.get_facecolor()\n",
    "    patch.set_facecolor((r, g, b, .5))\n",
    "#sns.stripplot(df, y=score, x=region_col, ax=ax, size=0.8, jitter=0.05, dodge=True, legend=\"\", alpha=1)\n",
    "ax._remove_legend(ax.get_legend())\n",
    "ax.set_ylim(0,0.6)\n",
    "ax.set_yticks([0, 0.2, 0.4, 0.6])\n",
    "ax.set_xlabel('Tumor region')\n",
    "ax.set_ylabel('TLS score')"
   ]
  }
 ],
 "metadata": {
  "kernelspec": {
   "display_name": "thor",
   "language": "python",
   "name": "python3"
  },
  "language_info": {
   "codemirror_mode": {
    "name": "ipython",
    "version": 3
   },
   "file_extension": ".py",
   "mimetype": "text/x-python",
   "name": "python",
   "nbconvert_exporter": "python",
   "pygments_lexer": "ipython3",
   "version": "3.11.5"
  }
 },
 "nbformat": 4,
 "nbformat_minor": 5
}
