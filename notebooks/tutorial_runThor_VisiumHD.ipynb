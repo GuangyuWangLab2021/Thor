{
 "cells": [
  {
   "cell_type": "markdown",
   "id": "43524e48-0eba-4e55-91f3-8fcf3a0f53b0",
   "metadata": {},
   "source": [
    "# Run Thor on Visium HD data"
   ]
  },
  {
   "cell_type": "markdown",
   "id": "6d521296",
   "metadata": {},
   "source": [
    "In this notebook, we show how to infer cell-level spatial transcriptome based on a Visium HD dataset of a bladder cancer patient sample.\n",
    "\n",
    "For installation of Thor, please refer to [this installation guide](../installation.rst)."
   ]
  },
  {
   "cell_type": "markdown",
   "id": "8c4e72a0",
   "metadata": {},
   "source": [
    "## Import the packages"
   ]
  },
  {
   "cell_type": "code",
   "execution_count": null,
   "id": "d1f1ebb5-8c12-4a81-a9ef-c95cccda4494",
   "metadata": {
    "scrolled": true,
    "tags": []
   },
   "outputs": [],
   "source": [
    "import sys\n",
    "import os\n",
    "import logging\n",
    "import datetime\n",
    "\n",
    "logger = logging.getLogger()\n",
    "logger.setLevel(logging.INFO)\n",
    "logging.basicConfig(format='%(name)s - %(levelname)s - %(message)s')\n",
    "\n",
    "now = datetime.datetime.now()\n",
    "logger.info(f\"Current Time: {now}\")"
   ]
  },
  {
   "cell_type": "code",
   "execution_count": null,
   "id": "de938b1b-0c28-4489-8b8b-5af4513cb3ab",
   "metadata": {},
   "outputs": [],
   "source": [
    "%config InlineBackend.figure_format = 'retina'\n",
    "\n",
    "import numpy as np\n",
    "import pandas as pd\n",
    "import scanpy as sc\n",
    "import seaborn as sns\n",
    "import matplotlib.pyplot as plt\n",
    "sc.set_figure_params(scanpy=True, dpi=80, dpi_save=300)\n",
    "sc.settings.verbosity = 'error'\n",
    "\n",
    "\n",
    "from thor.pp import WholeSlideImage, Spatial\n",
    "from thor.finest import fineST\n",
    "from thor.pl import single_molecule, plot_spot,get_nuclei_pixels\n",
    "from thor.utils import get_adata_layer_array\n",
    "\n",
    "from PIL import Image\n",
    "Image.MAX_IMAGE_PIXELS = None"
   ]
  },
  {
   "cell_type": "markdown",
   "id": "8cfed29e",
   "metadata": {},
   "source": [
    "## Predicting cell-level gene expression using Markov graph diffusion \n",
    "\n",
    "The segmentation part will be skip because it will take some time without GPU. We will provide pre-computed segmentation folder (include both feature and segmentation files)"
   ]
  },
  {
   "cell_type": "code",
   "execution_count": 3,
   "id": "2512769c-7573-4de0-bdfd-a6c629fff9e4",
   "metadata": {},
   "outputs": [],
   "source": [
    "# name = \"demo_visiumhd\"\n",
    "# image_path = f\"./{name}_Scan1.qptiff.tiff\"\n",
    "\n",
    "# wsi = WholeSlideImage(image_path, name=name)\n",
    "# wsi.process(method=\"stardist\")\n",
    "\n",
    "# cell_mask_path = os.path.join(image_process_dir, \"nuclei_mask.npz\")\n",
    "# wsi = WholeSlideImage(image_path, name=name, nuclei_seg_path=cell_mask_path, nuclei_seg_format='mask_array_npz')\n",
    "# wsi.process()"
   ]
  },
  {
   "cell_type": "markdown",
   "id": "f6080a86-f041-40ed-89d9-10dfe6be1c45",
   "metadata": {
    "tags": []
   },
   "source": [
    "### Preprocessing cell-level spatial transcriptome.\n",
    "Using the standard SCANPY pipeline, we created the VisiumHD 002um bin `adata` from the Space Ranger output directory (`demo_visiumhd`). This `adata` contains the expression matrix, bin locations mapped as pixel coordinates on the whole slide image (WSI), and both high and low-resolution images with their associated scale factors."
   ]
  },
  {
   "cell_type": "code",
   "execution_count": 4,
   "id": "79537acb-d2f7-40ba-94d0-806c11b756c8",
   "metadata": {},
   "outputs": [],
   "source": [
    "name = \"demo_visiumhd\"\n",
    "outdir = os.getcwd()\n",
    "image_path = f\"../{name}_Scan1.qptiff.tiff\"\n",
    "image_process_dir = os.path.join(outdir, f'WSI_{name}')\n",
    "cell_mask_path = os.path.join(image_process_dir, \"nuclei_mask.npz\")\n",
    "cell_feature_path = os.path.join(image_process_dir, \"cell_features.csv\")\n",
    "spatial_dir = f\"./{name}\"\n",
    "spot_adata_path = os.path.join(spatial_dir, f\"{name}_processed_002um.h5ad\")"
   ]
  },
  {
   "cell_type": "code",
   "execution_count": 5,
   "id": "1a309486-6bea-4910-b681-e080be860bd0",
   "metadata": {},
   "outputs": [],
   "source": [
    "cell_feature = pd.read_csv(cell_feature_path,index_col=0)\n",
    "spot = sc.read_h5ad(spot_adata_path)"
   ]
  },
  {
   "cell_type": "markdown",
   "id": "2c498e8f",
   "metadata": {},
   "source": [
    "#### We need to use a new function tailor to Visium HD 2 micrometer square bins data (less than cell size)."
   ]
  },
  {
   "cell_type": "code",
   "execution_count": null,
   "id": "b4c4c998-eb04-4515-b4f8-36618adf04b6",
   "metadata": {},
   "outputs": [],
   "source": [
    "from thor.utilities.VisiumHD_cell_mapping import HD2cell\n",
    "\n",
    "adata_cell, assignments = HD2cell(adata_spot=spot, node_feat=cell_feature)"
   ]
  },
  {
   "cell_type": "code",
   "execution_count": null,
   "id": "bcedec78-3b6c-4260-b13d-ab8c88843e0a",
   "metadata": {},
   "outputs": [],
   "source": [
    "sample = fineST(\n",
    "    image_path,\n",
    "    name=name,\n",
    "    spot_adata_path=spot_adata_path,\n",
    "    cell_features_csv_path=cell_feature_path\n",
    ")\n",
    "sample.prepare_input(mapping_margin=10)"
   ]
  },
  {
   "cell_type": "code",
   "execution_count": 8,
   "id": "892f3936-5bc7-4c5b-b647-52f3b167f23d",
   "metadata": {},
   "outputs": [],
   "source": [
    "sc.pp.normalize_total(adata_cell,target_sum=10000)\n",
    "sc.pp.log1p(adata_cell)"
   ]
  },
  {
   "cell_type": "code",
   "execution_count": 9,
   "id": "ebb64956-3cd5-41d4-a397-33f60a979b8d",
   "metadata": {},
   "outputs": [],
   "source": [
    "sample.adata.X = adata_cell.X\n",
    "sample.adata.obs_names = adata_cell.obs_names"
   ]
  },
  {
   "cell_type": "code",
   "execution_count": 10,
   "id": "1c0e0391-b3f3-48ae-bb2e-619078a8b588",
   "metadata": {},
   "outputs": [],
   "source": [
    "sc.tl.pca(sample.adata)"
   ]
  },
  {
   "cell_type": "code",
   "execution_count": 11,
   "id": "9ede8232-34d4-4383-a67c-3611da239997",
   "metadata": {},
   "outputs": [],
   "source": [
    "sample.genes = [\n",
    "    \"VIM\",  # Vimentin\n",
    "    \"ACTA2\",  # Alpha Smooth Muscle Actin (αSMA)\n",
    "    \"CAV1\",  # Caveolin 1\n",
    "    \"CAV2\",  # Caveolin 2\n",
    "    \"PDGFRA\",  # Platelet Derived Growth Factor Receptor Alpha\n",
    "    \"CD34\",  # CD34 Molecule\n",
    "    \"GJA1\",  # Gap Junction Protein Alpha 1 (Connexin 43)\n",
    "    \"KIT\",  # KIT Proto-Oncogene, Receptor Tyrosine Kinase\n",
    "    \"CDH11\",  # Cadherin 11\n",
    "    \"PDGFRB\",  # Platelet Derived Growth Factor Receptor Beta\n",
    "    \"CSPG4\",  # Chondroitin Sulfate Proteoglycan 4 (NG2)\n",
    "    \"PECAM1\",  # Platelet And Endothelial Cell Adhesion Molecule 1 (CD31)\n",
    "    \"FAP\",  # Fibroblast Activation Protein Alpha\n",
    "    \"TNC\",  # Tenascin C\n",
    "    \"THY1\",  # Thy-1 Cell Surface Antigen (CD90)\n",
    "    \"S100A4\",  # S100 Calcium Binding Protein A4 (FSP1)\n",
    "    \"DLL4\",  # Delta Like Canonical Notch Ligand 4\n",
    "    \"CCR7\"\n",
    "]"
   ]
  },
  {
   "cell_type": "code",
   "execution_count": 12,
   "id": "aade1a86-1479-4c50-9ae5-85208971c1df",
   "metadata": {},
   "outputs": [],
   "source": [
    "sample.set_genes_for_prediction(genes_selection_key=None)"
   ]
  },
  {
   "cell_type": "code",
   "execution_count": 13,
   "id": "505c6b2d-2309-44f8-bce7-e5d3433d9a67",
   "metadata": {},
   "outputs": [],
   "source": [
    "sample.recipe = 'gene'\n",
    "sample.set_params(\n",
    "    is_rawCount=False,\n",
    "    out_prefix=\"fineST\",\n",
    "    write_freq=20,\n",
    "    n_iter=20,\n",
    "    conn_csr_matrix=\"force\",\n",
    "    smoothing_scale=0.8,\n",
    "    node_features_obs_list=['spot_heterogeneity'],\n",
    "    n_neighbors=10,\n",
    "    geom_morph_ratio=0.5,\n",
    "    geom_constraint=0,\n",
    "    inflation_percentage=None,\n",
    "    regulate_expression_mean=False,\n",
    "    stochastic_expression_neighbors_level='spot',\n",
    "    smooth_predicted_expression_steps=0,\n",
    "    reduced_dimension_transcriptome_obsm_key=\"X_pca\",\n",
    "    adjust_cell_network_by_transcriptome_scale=0,\n",
    "    n_jobs=20)"
   ]
  },
  {
   "cell_type": "code",
   "execution_count": null,
   "id": "9d613a00-5267-4c38-824c-fe26c76a6136",
   "metadata": {},
   "outputs": [],
   "source": [
    "sample.predict_gene_expression()"
   ]
  },
  {
   "cell_type": "code",
   "execution_count": null,
   "id": "699dd38b-e31c-4487-b47b-cb51a7c481bb",
   "metadata": {},
   "outputs": [],
   "source": [
    "ad_thor = sample.load_result('fineST_20.npz')\n",
    "ad_thor"
   ]
  },
  {
   "cell_type": "code",
   "execution_count": 16,
   "id": "c9bf85ac-604f-426f-9701-8b00f64d1e50",
   "metadata": {},
   "outputs": [],
   "source": [
    "# save ad_thor\n",
    "ad_thor.write(f\"./{name}/{name}_finesST_20_result_002um.h5ad\")"
   ]
  },
  {
   "cell_type": "markdown",
   "id": "d68ed2c1-ff5a-4753-a664-b7c614d60e32",
   "metadata": {},
   "source": [
    "### Compare gene expression profiles between the Thor results with VisiumHD 008μm data (close to the actual cell size)."
   ]
  },
  {
   "cell_type": "code",
   "execution_count": 17,
   "id": "3f79380f-5d38-493c-991b-bdd437513dd1",
   "metadata": {},
   "outputs": [],
   "source": [
    "ad_HD = sc.read_h5ad(f\"./{name}/{name}_processed_008um.h5ad\")"
   ]
  },
  {
   "cell_type": "code",
   "execution_count": null,
   "id": "24e83975-5135-4edd-990e-d9fbee579570",
   "metadata": {},
   "outputs": [],
   "source": [
    "sc.pl.spatial(ad_thor,color=\"CCR7\", spot_size=50)"
   ]
  },
  {
   "cell_type": "code",
   "execution_count": null,
   "id": "aedf3450-c464-4f93-a99a-98d2a6dc0782",
   "metadata": {},
   "outputs": [],
   "source": [
    "sc.pl.spatial(ad_HD,color=\"CCR7\", spot_size=50)"
   ]
  },
  {
   "cell_type": "code",
   "execution_count": null,
   "id": "07ab038b-994f-4ae6-8d83-7b812f5ee3f6",
   "metadata": {},
   "outputs": [],
   "source": []
  }
 ],
 "metadata": {
  "kernelspec": {
   "display_name": "thor",
   "language": "python",
   "name": "python3"
  },
  "language_info": {
   "codemirror_mode": {
    "name": "ipython",
    "version": 3
   },
   "file_extension": ".py",
   "mimetype": "text/x-python",
   "name": "python",
   "nbconvert_exporter": "python",
   "pygments_lexer": "ipython3",
   "version": "3.11.5"
  }
 },
 "nbformat": 4,
 "nbformat_minor": 5
}
