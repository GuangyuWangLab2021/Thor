{
 "cells": [
  {
   "cell_type": "markdown",
   "metadata": {},
   "source": [
    "# Human heart failure"
   ]
  },
  {
   "cell_type": "markdown",
   "metadata": {},
   "source": [
    "In this notebook, we show how to infer cell-level spatial transcriptome and how to perform analyses on the tissue samples from human heart failure patients with myocardial infarction.\n",
    "\n",
    "* Thor inference\n",
    "* Pathway enrichment analysis\n",
    "* Transcription factor analyses\n",
    "* Semi-supervised annotation of fibrotic cells (link to external video tutorials to Mjolnir platform, which is to be launched)\n",
    "\n",
    "The input data and Thor processed data can be downloaded from our [google drive](https://drive.google.com/drive/folders/10k-bDw2zz_3Tdd9OvcSjNNqfKmTNbKqn?usp=sharing) or from the original [Nature paper](https://www.nature.com/articles/s41586-022-05060-x). Aliases (in parentesis) are used in our manuscript of the sample names appeared in the original paper: RZ_GT_P2(RZ1), RZ_P11(RZ2), GT_IZ_P9(IZ1), IZ_P10(IZ2), FZ_GT_P19(FZ1), FZ_P18(FZ2).\n",
    "\n",
    "For installation of Thor, please refer to [this installation guide](../installation.rst)."
   ]
  },
  {
   "cell_type": "markdown",
   "metadata": {},
   "source": [
    "## Import the packages"
   ]
  },
  {
   "cell_type": "code",
   "execution_count": null,
   "metadata": {},
   "outputs": [],
   "source": [
    "import os\n",
    "import logging\n",
    "import datetime\n",
    "import numpy as np\n",
    "\n",
    "logger = logging.getLogger()\n",
    "logger.setLevel(logging.INFO)\n",
    "logging.basicConfig(format='%(name)s - %(levelname)s - %(message)s')\n",
    "\n",
    "now = datetime.datetime.now()\n",
    "logger.info(f\"Current Time: {now}\")"
   ]
  },
  {
   "cell_type": "code",
   "execution_count": 2,
   "metadata": {},
   "outputs": [],
   "source": [
    "%config InlineBackend.figure_format = 'retina'\n",
    "\n",
    "import matplotlib.pyplot as plt\n",
    "from matplotlib.colors import LinearSegmentedColormap\n",
    "import scanpy as sc\n",
    "import decoupler as dc \n",
    "import warnings\n",
    "\n",
    "warnings.filterwarnings(\"ignore\")\n",
    "sc.set_figure_params(scanpy=True, dpi=150, dpi_save=300)\n",
    "sc.settings.verbosity = 'error'\n",
    "\n",
    "from thor.analy import get_pathway_score, get_tf_activity\n",
    "from thor.finest import fineST\n",
    "from thor.pl import colors "
   ]
  },
  {
   "cell_type": "markdown",
   "metadata": {},
   "source": [
    "## Predicting cell-level gene expression using Markov graph diffusion \n",
    "There are in total of six samples. We use sample \"RZ_GT_P2\" as an exmaple. All the process and parameters were kept the same.\n",
    "\n",
    "We also skip the preprocessing of the images and the spatial transcriptome data in this tutorial. Please refer to the other two tutorials for preprocessing.\n",
    "The preprocessed data can be downloaded from the same google drive [link](https://drive.google.com/drive/folders/1TqDRuqOd6I5RIKN-G-Nu0E2SpORX4BCH?usp=sharing)."
   ]
  },
  {
   "cell_type": "code",
   "execution_count": 3,
   "metadata": {},
   "outputs": [],
   "source": [
    "samples = ['RZ_GT_P2', 'RZ_P11', 'GT_IZ_P9', 'IZ_P10', 'FZ_GT_P19', 'FZ_P18']\n",
    "\n",
    "library_names = {\n",
    "    'FZ_P20': 'Visium_16_CK294',\n",
    "    'FZ_GT_P19': 'Visium_14_CK292',\n",
    "    'GT_IZ_P9': 'Visium_9_CK287',\n",
    "    'IZ_P10': 'Visium_7_CK285',\n",
    "    'RZ_P11': 'Visium_8_CK286',\n",
    "    'RZ_GT_P2': 'Visium_5_CK283'\n",
    "    }"
   ]
  },
  {
   "cell_type": "code",
   "execution_count": null,
   "metadata": {},
   "outputs": [],
   "source": [
    "sn = samples[0]\n",
    "\n",
    "# Below are the files you needed to run Thor\n",
    "image_path = os.path.join(\"HE_image\", sn, f\"{library_names[sn]}.tif\")\n",
    "cell_features_csv_path = os.path.join(\"WSI_HF\", sn, f\"features_{sn}.csv\")\n",
    "cell_mask_path = os.path.join(\"WSI_HF\", sn, f\"nucleis_{sn}_mask.npz\")\n",
    "spot_adata_path = os.path.join(\"Spatial_HF\", sn, f\"{sn}_adata_spots_thor_processed.h5ad\")\n",
    "\n",
    "rz = fineST(\n",
    "    image_path, \n",
    "    sn, \n",
    "    spot_adata_path=spot_adata_path,\n",
    "    cell_features_csv_path=cell_features_csv_path,\n",
    "    recipe='gene'\n",
    "    \n",
    "    )\n",
    "rz.prepare_input(mapping_margin=10)\n"
   ]
  },
  {
   "cell_type": "code",
   "execution_count": null,
   "metadata": {},
   "outputs": [],
   "source": [
    "rz.adata"
   ]
  },
  {
   "cell_type": "markdown",
   "metadata": {},
   "source": [
    "Run time ~ 10 mins for 32994 cells and 14467 genes on a MacbookPro M2 laptop."
   ]
  },
  {
   "cell_type": "code",
   "execution_count": null,
   "metadata": {},
   "outputs": [],
   "source": [
    "rz.set_genes_for_prediction(genes_selection_key='all')\n",
    "\n",
    "rz.set_params(\n",
    "    out_prefix=\"fineST\",\n",
    "    is_rawCounts=False,\n",
    "    layer=None,\n",
    "    is_rawCount=True,\n",
    "    write_freq=20,\n",
    "    n_iter=20,\n",
    "    smoothing_scale=0.8,\n",
    "    node_features_obs_list=['spot_heterogeneity'],\n",
    "    n_neighbors=5,\n",
    "    geom_morph_ratio=1,\n",
    "    inflation_percentage=None,\n",
    "    regulate_expression_mean=False,\n",
    "    stochastic_expression_neighbors_level=None,\n",
    "    n_jobs=8)\n",
    "\n",
    "rz.predict_gene_expression()\n"
   ]
  },
  {
   "cell_type": "code",
   "execution_count": null,
   "metadata": {},
   "outputs": [],
   "source": [
    "ad_thor = rz.load_result(\"fineST_20.npz\")\n",
    "sc.pp.normalize_total(ad_thor)\n",
    "sc.pp.log1p(ad_thor)\n",
    "ad_thor"
   ]
  },
  {
   "cell_type": "code",
   "execution_count": 8,
   "metadata": {},
   "outputs": [],
   "source": [
    "palette = colors.continuous_palettes['blueYellow']\n",
    "cmap = LinearSegmentedColormap.from_list('my_cmap', palette, N=256)"
   ]
  },
  {
   "cell_type": "code",
   "execution_count": null,
   "metadata": {},
   "outputs": [],
   "source": [
    "sc.pl.spatial(ad_thor, color=['PDGFRA', 'CASQ2', 'FBLN2', 'PKP2'], spot_size=40, use_raw=False, ncols=4, cmap=cmap, vmin='p1', vmax='p99')"
   ]
  },
  {
   "cell_type": "markdown",
   "metadata": {},
   "source": [
    "## Pathway enrichment analyses"
   ]
  },
  {
   "cell_type": "markdown",
   "metadata": {},
   "source": [
    "Get the gene sets for the GO_BP pathways"
   ]
  },
  {
   "cell_type": "code",
   "execution_count": null,
   "metadata": {},
   "outputs": [],
   "source": [
    "import decoupler as dc\n",
    "\n",
    "msigdb = dc.get_resource('MSigDB')\n",
    "msigdb = msigdb[msigdb['collection'] == 'go_biological_process']\n",
    "msigdb = msigdb[~msigdb.duplicated(['geneset', 'genesymbol'])]\n",
    "msigdb['geneset'] = [name.split('GOBP_')[1] for name in msigdb['geneset']]\n",
    "msigdb"
   ]
  },
  {
   "cell_type": "code",
   "execution_count": null,
   "metadata": {},
   "outputs": [],
   "source": [
    "ptw_list = [\n",
    "    'POSITIVE_REGULATION_OF_T_CELL_PROLIFERATION',\n",
    "    'POSITIVE_REGULATION_OF_INFLAMMATORY_RESPONSE',\n",
    "    'POSITIVE_REGULATION_OF_IMMUNE_EFFECTOR_PROCESS',\n",
    "    'POSITIVE_REGULATION_OF_B_CELL_ACTIVATION',\n",
    "    'POSITIVE_REGULATION_OF_FIBROBLAST_PROLIFERATION',\n",
    "    'COLLAGEN_FIBRIL_ORGANIZATION',\n",
    "    'CARDIAC_MUSCLE_CONTRACTION'\n",
    "    ]\n",
    "msigdb = msigdb[msigdb.geneset.isin(ptw_list)]\n",
    "msigdb"
   ]
  },
  {
   "cell_type": "markdown",
   "metadata": {},
   "source": [
    "Calculate the enrichment score using decoupler"
   ]
  },
  {
   "cell_type": "code",
   "execution_count": null,
   "metadata": {},
   "outputs": [],
   "source": [
    "acts = get_pathway_score(ad_thor, layer=None, net_df=msigdb)\n",
    "acts"
   ]
  },
  {
   "cell_type": "markdown",
   "metadata": {},
   "source": [
    "The pathway enrichment scores can be visualized on our interactive browser Mjolnir or using SCANPY as follows"
   ]
  },
  {
   "cell_type": "code",
   "execution_count": null,
   "metadata": {},
   "outputs": [],
   "source": [
    "for pathway in ptw_list:\n",
    "    sc.pl.spatial(acts, color=pathway, layer='smoothed', spot_size=30, use_raw=False, ncols=3, cmap='rainbow', frameon=False, title=pathway.lower(), colorbar_loc=None, alpha=0.5, alpha_img=0.7)"
   ]
  },
  {
   "cell_type": "markdown",
   "metadata": {},
   "source": [
    "## Transcription factor activity inference\n"
   ]
  },
  {
   "cell_type": "markdown",
   "metadata": {},
   "source": [
    "Download the CollecTRI database."
   ]
  },
  {
   "cell_type": "code",
   "execution_count": null,
   "metadata": {},
   "outputs": [],
   "source": [
    "net = dc.get_collectri(organism='human', split_complexes=False)\n",
    "net"
   ]
  },
  {
   "cell_type": "markdown",
   "metadata": {},
   "source": [
    "Calculate the TF activity based on regulated gene expression using decoupler"
   ]
  },
  {
   "cell_type": "code",
   "execution_count": null,
   "metadata": {},
   "outputs": [],
   "source": [
    "acts = get_tf_activity(ad_thor, layer=None, net_df=net)\n",
    "acts"
   ]
  },
  {
   "cell_type": "markdown",
   "metadata": {},
   "source": [
    "The TF activity score can be visualized on our interactive browser Mjolnir or using SCANPY as follows"
   ]
  },
  {
   "cell_type": "code",
   "execution_count": null,
   "metadata": {},
   "outputs": [],
   "source": [
    "tf_list = ['MYB', 'STAT4', 'SMAD3']\n",
    "for tf in tf_list:\n",
    "    sc.pl.spatial(acts, color=tf, layer='smoothed', spot_size=30, use_raw=False, ncols=3, cmap='rainbow', frameon=False, title=tf, alpha=0.5, alpha_img=0.7)"
   ]
  },
  {
   "cell_type": "markdown",
   "metadata": {},
   "source": [
    "## Semi-supervised annotation"
   ]
  },
  {
   "cell_type": "markdown",
   "metadata": {},
   "source": [
    "The semi-supervised annotation of similar cells can be performed on our web-based platform Mjolnir. Below are three video tips for how to use mjolnir.\n",
    "\n",
    "- [Visualization of gene expression at spot and cell level](https://drive.google.com/file/d/1g_zGoHohbeXP2RFN_AVAhTQqSAKY5qcj/view?usp=sharing)\n",
    "- [Visualization of pathway enrichment heatmaps](https://drive.google.com/file/d/1e04zKErfZnXknPB3U7eENIfyq_o-RaBS/view?usp=sharing)\n",
    "- [Semi-supervised annotation of cells](https://drive.google.com/file/d/1gZYKZTNUnzS_qd2YZrGEoWd7RYhoIAjd/view?usp=sharing)"
   ]
  }
 ],
 "metadata": {
  "kernelspec": {
   "display_name": "thor",
   "language": "python",
   "name": "python3"
  },
  "language_info": {
   "codemirror_mode": {
    "name": "ipython",
    "version": 3
   },
   "file_extension": ".py",
   "mimetype": "text/x-python",
   "name": "python",
   "nbconvert_exporter": "python",
   "pygments_lexer": "ipython3",
   "version": "3.11.5"
  }
 },
 "nbformat": 4,
 "nbformat_minor": 4
}
