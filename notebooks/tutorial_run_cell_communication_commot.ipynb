{
 "cells": [
  {
   "cell_type": "markdown",
   "metadata": {},
   "source": [
    "# Cell cell communication"
   ]
  },
  {
   "cell_type": "markdown",
   "metadata": {},
   "source": [
    "In this notebook, we show how to use Thor's built in module to study cell-cell communication infer cell-level spatial transcriptome on a sample from human heart failure patients with myocardial infarction.\n",
    "\n",
    "For installation of Thor, please refer to [this installation guide](../installation.rst)."
   ]
  },
  {
   "cell_type": "code",
   "execution_count": null,
   "metadata": {},
   "outputs": [],
   "source": [
    "import sys\n",
    "import os\n",
    "import logging\n",
    "import datetime\n",
    "import numpy as np\n",
    "import pandas as pd\n",
    "import scanpy as sc\n",
    "import seaborn as sns\n",
    "import matplotlib.pyplot as plt\n",
    "\n",
    "now = datetime.datetime.now()\n",
    "\n",
    "print(f\"Current Time: {now}\")\n",
    "\n",
    "here = os.getcwd()\n",
    "print(f\"Current Directory: {here}\")"
   ]
  },
  {
   "cell_type": "code",
   "execution_count": 2,
   "metadata": {},
   "outputs": [],
   "source": [
    "import commot as ct\n",
    "import thor\n",
    "from thor.analysis.ccc import split_pathways, run_commot, plot_commot\n",
    "\n",
    "%config InlineBackend.figure_format = 'retina'"
   ]
  },
  {
   "cell_type": "markdown",
   "metadata": {},
   "source": [
    "## Load ligand-receptor database"
   ]
  },
  {
   "cell_type": "code",
   "execution_count": null,
   "metadata": {},
   "outputs": [],
   "source": [
    "cc = ct.pp.ligand_receptor_database(database='CellChat', species='human')\n",
    "cc"
   ]
  },
  {
   "cell_type": "code",
   "execution_count": null,
   "metadata": {},
   "outputs": [],
   "source": [
    "pathways_dict = split_pathways(cc, name_col_index=2)\n",
    "pathways_dict['VEGF']"
   ]
  },
  {
   "cell_type": "markdown",
   "metadata": {},
   "source": [
    "## Human Heart (spot level)"
   ]
  },
  {
   "cell_type": "markdown",
   "metadata": {},
   "source": [
    "The heart failure tissue sample is downloaded from [the study](https://doi.org/10.1038/s41586-022-05060-x) in a Nature paper \"Spatial multi-omic map of human myocardial infarction\"."
   ]
  },
  {
   "cell_type": "code",
   "execution_count": 5,
   "metadata": {},
   "outputs": [],
   "source": [
    "sn = 'GT_IZ_P9_rep2'\n",
    "ad_spot_path = f\"{sn}_adata_spots_filtered_ref.h5ad\"\n",
    "ad = sc.read_h5ad(ad_spot_path)"
   ]
  },
  {
   "cell_type": "code",
   "execution_count": 6,
   "metadata": {},
   "outputs": [],
   "source": [
    "from thor.utils import convert_pixel_to_micron_visium\n",
    "\n",
    "microns_per_pixel = convert_pixel_to_micron_visium(ad, res='fullres', spotDiameterinMicron=65)\n",
    "distance = 100 # distance threshold in microns\n",
    "distance_pixel = distance / microns_per_pixel"
   ]
  },
  {
   "cell_type": "markdown",
   "metadata": {},
   "source": [
    "### Use Thor's API: run_commot for data preprocessing and run COMMOT"
   ]
  },
  {
   "cell_type": "code",
   "execution_count": 7,
   "metadata": {},
   "outputs": [],
   "source": [
    "database = 'CellChat'\n",
    "pathway = 'VEGF'\n",
    "\n",
    "ad_comm = run_commot(\n",
    "    ad,\n",
    "    database_name=database, \n",
    "    df_ligrec=pathways_dict[pathway], \n",
    "    dis_thr=distance_pixel, \n",
    "    heteromeric=True,\n",
    "    pathway_sum=True)"
   ]
  },
  {
   "cell_type": "markdown",
   "metadata": {},
   "source": [
    "### We can now check the directions of VEGF signals via a streamplot (spot level)"
   ]
  },
  {
   "cell_type": "code",
   "execution_count": null,
   "metadata": {},
   "outputs": [],
   "source": [
    "plot_commot(ad_comm, database_name=database, pathway_name=pathway, plot_method='stream', background_legend=True,\n",
    "    scale=0.5, ndsize=8, grid_density=0.4, summary='sender', background='image', clustering='leiden', cmap='Alphabet',\n",
    "    normalize_v=True, normalize_v_quantile=0.995)"
   ]
  },
  {
   "cell_type": "markdown",
   "metadata": {},
   "source": [
    "### With the original spot data, VEGF signals are observed crossing a vessel region"
   ]
  },
  {
   "cell_type": "code",
   "execution_count": null,
   "metadata": {},
   "outputs": [],
   "source": [
    "plot_commot(ad_comm, region=(4000, 5800, 3000, 5500), database_name=database, pathway_name=pathway, plot_method='stream', background_legend=True,\n",
    "    scale=0.5, ndsize=4, grid_density=0.4, summary='sender', background='image', clustering='leiden', cmap='Alphabet',\n",
    "    normalize_v=True, normalize_v_quantile=0.995)"
   ]
  },
  {
   "cell_type": "markdown",
   "metadata": {},
   "source": [
    "## Human Heart (cell level based on Thor)"
   ]
  },
  {
   "cell_type": "markdown",
   "metadata": {},
   "source": [
    "Subsample 2 cells in every spot for efficiency"
   ]
  },
  {
   "cell_type": "code",
   "execution_count": null,
   "metadata": {},
   "outputs": [],
   "source": [
    "ad_thor = sc.read_h5ad(\"GT_IZ_P9_rep2_adata_cells.h5ad\")\n",
    "ad_thor"
   ]
  },
  {
   "cell_type": "code",
   "execution_count": null,
   "metadata": {},
   "outputs": [],
   "source": [
    "spot_barcodes = ad_thor.obs.spot_barcodes.drop_duplicates()\n",
    "spot_barcodes = list(map(lambda x: str(x)+'-1', spot_barcodes)) + list(spot_barcodes)\n",
    "ad_subsampled = ad_thor[ad_thor.obs.index.isin(spot_barcodes), :].copy()\n",
    "ad_subsampled"
   ]
  },
  {
   "cell_type": "markdown",
   "metadata": {},
   "source": [
    "### Use Thor's API: run_commot for data preprocessing and run COMMOT"
   ]
  },
  {
   "cell_type": "code",
   "execution_count": 12,
   "metadata": {},
   "outputs": [],
   "source": [
    "ad_thor_comm = run_commot(\n",
    "    ad_subsampled,\n",
    "    database_name=database, \n",
    "    df_ligrec=pathways_dict[pathway],\n",
    "    dis_thr=distance_pixel,\n",
    "    heteromeric=True,\n",
    "    pathway_sum=True)"
   ]
  },
  {
   "cell_type": "markdown",
   "metadata": {},
   "source": [
    "### We can now check the directions of VEGF signals via a streamplot (cell level)"
   ]
  },
  {
   "cell_type": "code",
   "execution_count": null,
   "metadata": {},
   "outputs": [],
   "source": [
    "plot_commot(ad_thor_comm, database_name=database, pathway_name=pathway, plot_method='stream', background_legend=True,\n",
    "    scale=0.5, ndsize=4, grid_density=0.2, summary='sender', background='image', clustering='leiden', cmap='Alphabet',\n",
    "    normalize_v=True, normalize_v_quantile=0.995)"
   ]
  },
  {
   "cell_type": "markdown",
   "metadata": {},
   "source": [
    "### With Thor inferred data, VEGF signals are observed initialized from a vessel region, which makes more sense"
   ]
  },
  {
   "cell_type": "code",
   "execution_count": null,
   "metadata": {},
   "outputs": [],
   "source": [
    "plot_commot(ad_thor_comm, region=(4000, 5800, 3000, 5500), database_name=database, pathway_name=pathway, plot_method='stream', background_legend=True,\n",
    "    scale=0.5, ndsize=4, grid_density=0.2, summary='sender', background='image', clustering='leiden', cmap='Alphabet',\n",
    "    normalize_v=True, normalize_v_quantile=0.995)"
   ]
  },
  {
   "cell_type": "markdown",
   "metadata": {},
   "source": [
    "### DEG along signaling pathways"
   ]
  },
  {
   "cell_type": "code",
   "execution_count": null,
   "metadata": {},
   "outputs": [],
   "source": [
    "ad_thor_comm.layers['counts'] = np.expm1(ad_thor_comm.X)\n",
    "\n",
    "df_deg, df_yhat = ct.tl.communication_deg_detection(\n",
    "    ad_thor_comm,\n",
    "    database_name=database, \n",
    "    pathway_name=pathway, \n",
    "    summary='receiver')"
   ]
  },
  {
   "cell_type": "code",
   "execution_count": null,
   "metadata": {},
   "outputs": [],
   "source": [
    "df_deg_clus, df_yhat_clus = ct.tl.communication_deg_clustering(df_deg, df_yhat, deg_clustering_res=0.1)\n",
    "\n",
    "top_de_genes_VEGF = ct.pl.plot_communication_dependent_genes(\n",
    "    df_deg_clus, \n",
    "    df_yhat_clus, \n",
    "    top_ngene_per_cluster=5,\n",
    "    filename='./heatmap_deg_VEGF.pdf', \n",
    "    font_scale=1.2, \n",
    "    return_genes=True)"
   ]
  },
  {
   "cell_type": "code",
   "execution_count": null,
   "metadata": {},
   "outputs": [],
   "source": [
    "def plot_genes(adata_dis500, pathway, genes, database=None):\n",
    "    X_sc = adata_dis500.obsm['spatial']\n",
    "    fig, ax = plt.subplots(1,3, figsize=(15,4))\n",
    "    colors = adata_dis500.obsm[f'commot-{database}-sum-sender'][f's-{pathway}'].values\n",
    "    idx = np.argsort(colors)\n",
    "    ax[0].scatter(X_sc[idx,0],X_sc[idx,1], c=colors[idx], cmap='coolwarm', s=2)\n",
    "    colors = adata_dis500[:,genes[0]].X.toarray().flatten()\n",
    "    idx = np.argsort(colors)\n",
    "    ax[1].scatter(X_sc[idx,0],X_sc[idx,1], c=colors[idx], cmap='coolwarm', s=2)\n",
    "    colors = adata_dis500[:,genes[1]].X.toarray().flatten()\n",
    "    idx = np.argsort(colors)\n",
    "    ax[2].scatter(X_sc[idx,0],X_sc[idx,1], c=colors[idx], cmap='coolwarm', s=2)\n",
    "    ax[0].set_title('Amount of received signal')\n",
    "    ax[1].set_title(f'An example negative DE gene ({genes[0]})')\n",
    "    ax[2].set_title(f'An example positive DE gene ({genes[1]})')\n",
    "    ax[0].invert_yaxis()\n",
    "    ax[1].invert_yaxis()\n",
    "    ax[2].invert_yaxis()\n",
    "    plt.show()\n",
    "\n",
    "\n",
    "plot_genes(ad_thor_comm, pathway, ['MELTF', 'IGFBP5'], database=database)"
   ]
  },
  {
   "cell_type": "code",
   "execution_count": null,
   "metadata": {},
   "outputs": [],
   "source": []
  }
 ],
 "metadata": {
  "kernelspec": {
   "display_name": "thor",
   "language": "python",
   "name": "python3"
  },
  "language_info": {
   "codemirror_mode": {
    "name": "ipython",
    "version": 3
   },
   "file_extension": ".py",
   "mimetype": "text/x-python",
   "name": "python",
   "nbconvert_exporter": "python",
   "pygments_lexer": "ipython3",
   "version": "3.11.5"
  }
 },
 "nbformat": 4,
 "nbformat_minor": 4
}
